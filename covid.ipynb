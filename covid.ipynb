{
 "cells": [
  {
   "cell_type": "markdown",
   "metadata": {},
   "source": [
    "# **Projeto de Machine Lerning DIO**\n",
    " ## **Criando modelos com Python e Machine Learning para prever a evolução do COVID-19 no Brasil**\n",
    " \n",
    "[![author](https://img.shields.io/badge/author-evaldojunior-red.svg)](https://www.linkedin.com/in/evaldo-junior-89094244/) [![](https://img.shields.io/badge/python-3.9+-blue.svg)](https://www.python.org/downloads/release/python-365/) [![GPLv3 license](https://img.shields.io/badge/License-GPLv3-blue.svg)](http://perso.crans.org/besson/LICENSE.html)\n",
    "\n",
    "<p align=\"center\">\n",
    "  <img src=\"COVID.png\" >\n",
    "</p>"
   ]
  },
  {
   "cell_type": "markdown",
   "metadata": {},
   "source": [
    "## **SOBRE O PROJETO**"
   ]
  },
  {
   "cell_type": "markdown",
   "metadata": {},
   "source": [
    "Este projeto tem por objetivo cumprir a ultima etapa do curso de \n",
    "Criando modelos com Python e Machine Learning para prever a evolução do COVID-19 no Brasil\n",
    "\n",
    "A ideia central é desenvolver um modelo para prever os casos de covid19 no brasil utilizando modelos de machine Learning.\n"
   ]
  },
  {
   "cell_type": "markdown",
   "metadata": {},
   "source": [
    ">Durante as aulas o professor Neylson utilizou a biblioteca <font color =\"red\">fbprophet</font>, porém, para este projeto eu farei a predição com a biblioteca <font color = 'red'>statsmodels</font>"
   ]
  },
  {
   "cell_type": "markdown",
   "metadata": {},
   "source": [
    "---"
   ]
  },
  {
   "cell_type": "markdown",
   "metadata": {},
   "source": [
    "## **SOBRE OS DADOS**"
   ]
  },
  {
   "cell_type": "markdown",
   "metadata": {},
   "source": [
    "- **SNo** - Número de controle interno (Sequencial)\n",
    "- **ObservationDate** - Data em que a contagem dos casos foi realizada\n",
    "- **Province/State** - Estado onde o caso foi registrado\n",
    "- **Country/Region** - Pais onde o caso foi registrado\n",
    "- **Last Update** - Data e hora da ultima atualização\n",
    "- **Confirmed** - Quantidade de casos confirmados\n",
    "- **Deaths**- Quantidade de óbitos\n",
    "- **Recovered** - Quantidade de pessoas curadas\n",
    "\n",
    "\n"
   ]
  },
  {
   "cell_type": "markdown",
   "metadata": {},
   "source": [
    "---"
   ]
  },
  {
   "cell_type": "markdown",
   "metadata": {},
   "source": [
    "## **1.1.ANÁLISE EXPLORATÓRIA DOS DADOS**"
   ]
  },
  {
   "cell_type": "markdown",
   "metadata": {},
   "source": [
    "Começo o trabalho tentando entender melhor os dados. \n",
    "Faço a importação e já rodo o head e tail para ter uma noção do que tenho em mãos. \n",
    "Logo em seguida, já parto para a verificação de dados nulos. De cara já dá para ver que a coluna Province/State tem uma porrada de dados faltantes.\n",
    "\n",
    "Por último, verifico se os tipos de dados estão condizentes com o que tenho em mãos. \n",
    "\n",
    "Aparentemente, a única coisa não muito legal é a quantidade de dados faltantes, de resto, está tudo bem. \n"
   ]
  },
  {
   "cell_type": "code",
   "execution_count": 1,
   "metadata": {},
   "outputs": [],
   "source": [
    "import pandas as pd \n",
    "import numpy as np\n",
    "\n",
    "import statsmodels.api as sm\n",
    "\n",
    "import matplotlib.pyplot as plt\n",
    "import seaborn as sns\n",
    "\n",
    "sns.set()\n",
    "\n",
    "import warnings\n",
    "warnings.filterwarnings('ignore')"
   ]
  },
  {
   "cell_type": "code",
   "execution_count": 2,
   "metadata": {},
   "outputs": [
    {
     "data": {
      "text/html": [
       "<div>\n",
       "<style scoped>\n",
       "    .dataframe tbody tr th:only-of-type {\n",
       "        vertical-align: middle;\n",
       "    }\n",
       "\n",
       "    .dataframe tbody tr th {\n",
       "        vertical-align: top;\n",
       "    }\n",
       "\n",
       "    .dataframe thead th {\n",
       "        text-align: right;\n",
       "    }\n",
       "</style>\n",
       "<table border=\"1\" class=\"dataframe\">\n",
       "  <thead>\n",
       "    <tr style=\"text-align: right;\">\n",
       "      <th></th>\n",
       "      <th>SNo</th>\n",
       "      <th>ObservationDate</th>\n",
       "      <th>Province/State</th>\n",
       "      <th>Country/Region</th>\n",
       "      <th>Last Update</th>\n",
       "      <th>Confirmed</th>\n",
       "      <th>Deaths</th>\n",
       "      <th>Recovered</th>\n",
       "    </tr>\n",
       "  </thead>\n",
       "  <tbody>\n",
       "    <tr>\n",
       "      <th>0</th>\n",
       "      <td>1</td>\n",
       "      <td>2020-01-22</td>\n",
       "      <td>Anhui</td>\n",
       "      <td>Mainland China</td>\n",
       "      <td>2020-01-22 17:00:00</td>\n",
       "      <td>1.0</td>\n",
       "      <td>0.0</td>\n",
       "      <td>0.0</td>\n",
       "    </tr>\n",
       "    <tr>\n",
       "      <th>1</th>\n",
       "      <td>2</td>\n",
       "      <td>2020-01-22</td>\n",
       "      <td>Beijing</td>\n",
       "      <td>Mainland China</td>\n",
       "      <td>2020-01-22 17:00:00</td>\n",
       "      <td>14.0</td>\n",
       "      <td>0.0</td>\n",
       "      <td>0.0</td>\n",
       "    </tr>\n",
       "    <tr>\n",
       "      <th>2</th>\n",
       "      <td>3</td>\n",
       "      <td>2020-01-22</td>\n",
       "      <td>Chongqing</td>\n",
       "      <td>Mainland China</td>\n",
       "      <td>2020-01-22 17:00:00</td>\n",
       "      <td>6.0</td>\n",
       "      <td>0.0</td>\n",
       "      <td>0.0</td>\n",
       "    </tr>\n",
       "    <tr>\n",
       "      <th>3</th>\n",
       "      <td>4</td>\n",
       "      <td>2020-01-22</td>\n",
       "      <td>Fujian</td>\n",
       "      <td>Mainland China</td>\n",
       "      <td>2020-01-22 17:00:00</td>\n",
       "      <td>1.0</td>\n",
       "      <td>0.0</td>\n",
       "      <td>0.0</td>\n",
       "    </tr>\n",
       "    <tr>\n",
       "      <th>4</th>\n",
       "      <td>5</td>\n",
       "      <td>2020-01-22</td>\n",
       "      <td>Gansu</td>\n",
       "      <td>Mainland China</td>\n",
       "      <td>2020-01-22 17:00:00</td>\n",
       "      <td>0.0</td>\n",
       "      <td>0.0</td>\n",
       "      <td>0.0</td>\n",
       "    </tr>\n",
       "  </tbody>\n",
       "</table>\n",
       "</div>"
      ],
      "text/plain": [
       "   SNo ObservationDate Province/State  Country/Region         Last Update  \\\n",
       "0    1      2020-01-22          Anhui  Mainland China 2020-01-22 17:00:00   \n",
       "1    2      2020-01-22        Beijing  Mainland China 2020-01-22 17:00:00   \n",
       "2    3      2020-01-22      Chongqing  Mainland China 2020-01-22 17:00:00   \n",
       "3    4      2020-01-22         Fujian  Mainland China 2020-01-22 17:00:00   \n",
       "4    5      2020-01-22          Gansu  Mainland China 2020-01-22 17:00:00   \n",
       "\n",
       "   Confirmed  Deaths  Recovered  \n",
       "0        1.0     0.0        0.0  \n",
       "1       14.0     0.0        0.0  \n",
       "2        6.0     0.0        0.0  \n",
       "3        1.0     0.0        0.0  \n",
       "4        0.0     0.0        0.0  "
      ]
     },
     "execution_count": 2,
     "metadata": {},
     "output_type": "execute_result"
    }
   ],
   "source": [
    "url = 'https://github.com/neylsoncrepalde/projeto_eda_covid/blob/master/covid_19_data.csv?raw=true'\n",
    "\n",
    "df = pd.read_csv(url, parse_dates=['ObservationDate', 'Last Update'])\n",
    "df.head()"
   ]
  },
  {
   "cell_type": "code",
   "execution_count": 3,
   "metadata": {},
   "outputs": [
    {
     "data": {
      "text/html": [
       "<div>\n",
       "<style scoped>\n",
       "    .dataframe tbody tr th:only-of-type {\n",
       "        vertical-align: middle;\n",
       "    }\n",
       "\n",
       "    .dataframe tbody tr th {\n",
       "        vertical-align: top;\n",
       "    }\n",
       "\n",
       "    .dataframe thead th {\n",
       "        text-align: right;\n",
       "    }\n",
       "</style>\n",
       "<table border=\"1\" class=\"dataframe\">\n",
       "  <thead>\n",
       "    <tr style=\"text-align: right;\">\n",
       "      <th></th>\n",
       "      <th>SNo</th>\n",
       "      <th>ObservationDate</th>\n",
       "      <th>Province/State</th>\n",
       "      <th>Country/Region</th>\n",
       "      <th>Last Update</th>\n",
       "      <th>Confirmed</th>\n",
       "      <th>Deaths</th>\n",
       "      <th>Recovered</th>\n",
       "    </tr>\n",
       "  </thead>\n",
       "  <tbody>\n",
       "    <tr>\n",
       "      <th>26708</th>\n",
       "      <td>26709</td>\n",
       "      <td>2020-05-19</td>\n",
       "      <td>Wyoming</td>\n",
       "      <td>US</td>\n",
       "      <td>2020-05-20 02:32:19</td>\n",
       "      <td>776.0</td>\n",
       "      <td>10.0</td>\n",
       "      <td>0.0</td>\n",
       "    </tr>\n",
       "    <tr>\n",
       "      <th>26709</th>\n",
       "      <td>26710</td>\n",
       "      <td>2020-05-19</td>\n",
       "      <td>Xinjiang</td>\n",
       "      <td>Mainland China</td>\n",
       "      <td>2020-05-20 02:32:19</td>\n",
       "      <td>76.0</td>\n",
       "      <td>3.0</td>\n",
       "      <td>73.0</td>\n",
       "    </tr>\n",
       "    <tr>\n",
       "      <th>26710</th>\n",
       "      <td>26711</td>\n",
       "      <td>2020-05-19</td>\n",
       "      <td>Yukon</td>\n",
       "      <td>Canada</td>\n",
       "      <td>2020-05-20 02:32:19</td>\n",
       "      <td>11.0</td>\n",
       "      <td>0.0</td>\n",
       "      <td>11.0</td>\n",
       "    </tr>\n",
       "    <tr>\n",
       "      <th>26711</th>\n",
       "      <td>26712</td>\n",
       "      <td>2020-05-19</td>\n",
       "      <td>Yunnan</td>\n",
       "      <td>Mainland China</td>\n",
       "      <td>2020-05-20 02:32:19</td>\n",
       "      <td>185.0</td>\n",
       "      <td>2.0</td>\n",
       "      <td>183.0</td>\n",
       "    </tr>\n",
       "    <tr>\n",
       "      <th>26712</th>\n",
       "      <td>26713</td>\n",
       "      <td>2020-05-19</td>\n",
       "      <td>Zhejiang</td>\n",
       "      <td>Mainland China</td>\n",
       "      <td>2020-05-20 02:32:19</td>\n",
       "      <td>1268.0</td>\n",
       "      <td>1.0</td>\n",
       "      <td>1267.0</td>\n",
       "    </tr>\n",
       "  </tbody>\n",
       "</table>\n",
       "</div>"
      ],
      "text/plain": [
       "         SNo ObservationDate Province/State  Country/Region  \\\n",
       "26708  26709      2020-05-19        Wyoming              US   \n",
       "26709  26710      2020-05-19       Xinjiang  Mainland China   \n",
       "26710  26711      2020-05-19          Yukon          Canada   \n",
       "26711  26712      2020-05-19         Yunnan  Mainland China   \n",
       "26712  26713      2020-05-19       Zhejiang  Mainland China   \n",
       "\n",
       "              Last Update  Confirmed  Deaths  Recovered  \n",
       "26708 2020-05-20 02:32:19      776.0    10.0        0.0  \n",
       "26709 2020-05-20 02:32:19       76.0     3.0       73.0  \n",
       "26710 2020-05-20 02:32:19       11.0     0.0       11.0  \n",
       "26711 2020-05-20 02:32:19      185.0     2.0      183.0  \n",
       "26712 2020-05-20 02:32:19     1268.0     1.0     1267.0  "
      ]
     },
     "execution_count": 3,
     "metadata": {},
     "output_type": "execute_result"
    }
   ],
   "source": [
    "df.tail()"
   ]
  },
  {
   "cell_type": "code",
   "execution_count": 4,
   "metadata": {},
   "outputs": [
    {
     "data": {
      "text/plain": [
       "SNo                    0\n",
       "ObservationDate        0\n",
       "Province/State     13831\n",
       "Country/Region         0\n",
       "Last Update            0\n",
       "Confirmed              0\n",
       "Deaths                 0\n",
       "Recovered              0\n",
       "dtype: int64"
      ]
     },
     "execution_count": 4,
     "metadata": {},
     "output_type": "execute_result"
    }
   ],
   "source": [
    "df.isnull().sum()"
   ]
  },
  {
   "cell_type": "code",
   "execution_count": 5,
   "metadata": {},
   "outputs": [
    {
     "name": "stdout",
     "output_type": "stream",
     "text": [
      "<class 'pandas.core.frame.DataFrame'>\n",
      "RangeIndex: 26713 entries, 0 to 26712\n",
      "Data columns (total 8 columns):\n",
      " #   Column           Non-Null Count  Dtype         \n",
      "---  ------           --------------  -----         \n",
      " 0   SNo              26713 non-null  int64         \n",
      " 1   ObservationDate  26713 non-null  datetime64[ns]\n",
      " 2   Province/State   12882 non-null  object        \n",
      " 3   Country/Region   26713 non-null  object        \n",
      " 4   Last Update      26713 non-null  datetime64[ns]\n",
      " 5   Confirmed        26713 non-null  float64       \n",
      " 6   Deaths           26713 non-null  float64       \n",
      " 7   Recovered        26713 non-null  float64       \n",
      "dtypes: datetime64[ns](2), float64(3), int64(1), object(2)\n",
      "memory usage: 1.6+ MB\n"
     ]
    }
   ],
   "source": [
    "df.info()"
   ]
  },
  {
   "cell_type": "code",
   "execution_count": 6,
   "metadata": {},
   "outputs": [
    {
     "data": {
      "text/plain": [
       "Index(['SNo', 'ObservationDate', 'Province/State', 'Country/Region',\n",
       "       'Last Update', 'Confirmed', 'Deaths', 'Recovered'],\n",
       "      dtype='object')"
      ]
     },
     "execution_count": 6,
     "metadata": {},
     "output_type": "execute_result"
    }
   ],
   "source": [
    "df.columns"
   ]
  },
  {
   "cell_type": "markdown",
   "metadata": {},
   "source": [
    "### **1.2.BRASIL**"
   ]
  },
  {
   "cell_type": "markdown",
   "metadata": {},
   "source": [
    "Conforme visto nas aulas, o foco do estudo será o Brasil.\n",
    "\n",
    "Por conta disso já começo fazendo um filtro."
   ]
  },
  {
   "cell_type": "markdown",
   "metadata": {},
   "source": [
    "Aqui tenho que relatar algo interessante.\n",
    "Ao tentar fazer o filtro sem renomear as colunas, acabei enfrentando problemas. A consulta simplesmente não me retornava valor algum.\n",
    "Então, acabei executando o código que o professor utilizou na aula para fazer o rename das colunas. Depois disso, consegui fazer os filtros de forma bastante tranquila.\n"
   ]
  },
  {
   "cell_type": "code",
   "execution_count": 7,
   "metadata": {},
   "outputs": [],
   "source": [
    "import re\n",
    "def corrige_colunas(col_name):\n",
    "    return re.sub(r\"[/| ]\", \"\", col_name).lower()\n",
    "\n",
    "df.columns = [corrige_colunas(col) for col in df.columns]"
   ]
  },
  {
   "cell_type": "code",
   "execution_count": 8,
   "metadata": {},
   "outputs": [
    {
     "data": {
      "text/html": [
       "<div>\n",
       "<style scoped>\n",
       "    .dataframe tbody tr th:only-of-type {\n",
       "        vertical-align: middle;\n",
       "    }\n",
       "\n",
       "    .dataframe tbody tr th {\n",
       "        vertical-align: top;\n",
       "    }\n",
       "\n",
       "    .dataframe thead th {\n",
       "        text-align: right;\n",
       "    }\n",
       "</style>\n",
       "<table border=\"1\" class=\"dataframe\">\n",
       "  <thead>\n",
       "    <tr style=\"text-align: right;\">\n",
       "      <th></th>\n",
       "      <th>observationdate</th>\n",
       "      <th>countryregion</th>\n",
       "      <th>lastupdate</th>\n",
       "      <th>confirmed</th>\n",
       "      <th>deaths</th>\n",
       "      <th>recovered</th>\n",
       "    </tr>\n",
       "  </thead>\n",
       "  <tbody>\n",
       "    <tr>\n",
       "      <th>2455</th>\n",
       "      <td>2020-02-26</td>\n",
       "      <td>Brazil</td>\n",
       "      <td>2020-02-26 23:53:02</td>\n",
       "      <td>1.0</td>\n",
       "      <td>0.0</td>\n",
       "      <td>0.0</td>\n",
       "    </tr>\n",
       "    <tr>\n",
       "      <th>2559</th>\n",
       "      <td>2020-02-27</td>\n",
       "      <td>Brazil</td>\n",
       "      <td>2020-02-26 23:53:02</td>\n",
       "      <td>1.0</td>\n",
       "      <td>0.0</td>\n",
       "      <td>0.0</td>\n",
       "    </tr>\n",
       "    <tr>\n",
       "      <th>2668</th>\n",
       "      <td>2020-02-28</td>\n",
       "      <td>Brazil</td>\n",
       "      <td>2020-02-26 23:53:02</td>\n",
       "      <td>1.0</td>\n",
       "      <td>0.0</td>\n",
       "      <td>0.0</td>\n",
       "    </tr>\n",
       "    <tr>\n",
       "      <th>2776</th>\n",
       "      <td>2020-02-29</td>\n",
       "      <td>Brazil</td>\n",
       "      <td>2020-02-29 21:03:05</td>\n",
       "      <td>2.0</td>\n",
       "      <td>0.0</td>\n",
       "      <td>0.0</td>\n",
       "    </tr>\n",
       "    <tr>\n",
       "      <th>2903</th>\n",
       "      <td>2020-03-01</td>\n",
       "      <td>Brazil</td>\n",
       "      <td>2020-02-29 21:03:05</td>\n",
       "      <td>2.0</td>\n",
       "      <td>0.0</td>\n",
       "      <td>0.0</td>\n",
       "    </tr>\n",
       "  </tbody>\n",
       "</table>\n",
       "</div>"
      ],
      "text/plain": [
       "     observationdate countryregion          lastupdate  confirmed  deaths  \\\n",
       "2455      2020-02-26        Brazil 2020-02-26 23:53:02        1.0     0.0   \n",
       "2559      2020-02-27        Brazil 2020-02-26 23:53:02        1.0     0.0   \n",
       "2668      2020-02-28        Brazil 2020-02-26 23:53:02        1.0     0.0   \n",
       "2776      2020-02-29        Brazil 2020-02-29 21:03:05        2.0     0.0   \n",
       "2903      2020-03-01        Brazil 2020-02-29 21:03:05        2.0     0.0   \n",
       "\n",
       "      recovered  \n",
       "2455        0.0  \n",
       "2559        0.0  \n",
       "2668        0.0  \n",
       "2776        0.0  \n",
       "2903        0.0  "
      ]
     },
     "execution_count": 8,
     "metadata": {},
     "output_type": "execute_result"
    }
   ],
   "source": [
    "dfBrasil = df.query('countryregion == \"Brazil\" & confirmed > 0')\n",
    "dfBrasil.drop(['provincestate', 'sno'], axis = 1, inplace = True)\n",
    "dfBrasil.head()"
   ]
  },
  {
   "cell_type": "markdown",
   "metadata": {},
   "source": [
    "### **1.3.Numero de Casos Confirmados**"
   ]
  },
  {
   "cell_type": "code",
   "execution_count": 9,
   "metadata": {},
   "outputs": [
    {
     "data": {
      "image/png": "[encoded data removed]",
      "text/plain": [
       "<Figure size 1296x432 with 1 Axes>"
      ]
     },
     "metadata": {},
     "output_type": "display_data"
    }
   ],
   "source": [
    "imagem = sns.lineplot(data = dfBrasil, x = 'observationdate', y = 'confirmed')\n",
    "imagem.figure.set_size_inches(18,6)\n",
    "imagem.set_ylabel('Casos Confirmados (1K)')\n",
    "imagem.set_xlabel('Data')\n",
    "imagem.set_title('Numero de Casos Confirmados', fontsize = 30, fontweight = 'bold');"
   ]
  },
  {
   "cell_type": "markdown",
   "metadata": {},
   "source": [
    "### **1.4.Numero de Novos Casos**"
   ]
  },
  {
   "cell_type": "markdown",
   "metadata": {},
   "source": [
    "Aqui criamos uma função lambda que é passada como parâmetro dentro de um método map.\n",
    "\n",
    "Para que você entenda exatamente o que está acontecendo nesta célula eu vou te explicar passo a passo o que faz cada código desses.\n",
    "\n",
    "Primeiro você deve ter notado que acabei criando uma coluna nova dentro do DataFrame dfBrasil. Fiz isso porque esta é justamente a coluna que irá armazenar o resultado do cálculo que irei fazer pegando sempre a o valor da linha atual e subtraindo do valor da linha anterior. \n",
    "\n",
    "Na sequência, note que estou transformando tudo o que está dentro do map em uma lista. \n",
    "\n",
    "Isso acontece porque o map por definição não me retorna valores, mas sim um map object, que é algo muito parecido com uma série de pandas, só que os valores não são visíveis. \n",
    "\n",
    "Na sequência, você vê a aplicação do map propriamente dito. Ele basicamente recebe dois parâmetros. O primeiro é a função que quero aplicar, e o segundo, é o local onde esta função será aplicada, que neste caso é nas 84 posições do meu DataFrame, isso foi informado com o np.arange do Numpy.\n",
    "Outro ponto importante, O map me retorna um iterável, por isso não precisei realizar o for. O prórpio método já faz isso para mim.\n"
   ]
  },
  {
   "cell_type": "code",
   "execution_count": 12,
   "metadata": {},
   "outputs": [],
   "source": [
    "dfBrasil['novoscasos'] = list(map(\n",
    "    lambda x: 0 if (x ==0) else dfBrasil['confirmed'].iloc[x] - dfBrasil['confirmed'].iloc[x -1],\n",
    "    np.arange(dfBrasil.shape[0])\n",
    "))"
   ]
  },
  {
   "cell_type": "code",
   "execution_count": 16,
   "metadata": {},
   "outputs": [
    {
     "data": {
      "image/png": "[encoded data removed]",
      "text/plain": [
       "<Figure size 1296x432 with 1 Axes>"
      ]
     },
     "metadata": {},
     "output_type": "display_data"
    }
   ],
   "source": [
    "imagem = sns.lineplot(data = dfBrasil, x = 'observationdate', y = 'novoscasos')\n",
    "imagem.figure.set_size_inches(18,6)\n",
    "imagem.set_ylabel('Novos Casos (1K)')\n",
    "imagem.set_xlabel('Data')\n",
    "imagem.set_title('Numero de Casos Confirmados', fontsize = 30, fontweight = 'bold');"
   ]
  },
  {
   "cell_type": "markdown",
   "metadata": {},
   "source": [
    "### **1.5.Taxa de Crescimento - Numero de casos por Dia**"
   ]
  },
  {
   "cell_type": "markdown",
   "metadata": {},
   "source": [
    "Abaixo temos a fórmula para calcular a taxa de crescimento diário onde:\n",
    "\n",
    "- **Presente** - Valor atual da minha série, ou ultimo valor do meu range\n",
    "- **Passada** - Primeiro valor da minha séria, ou primeiro valor do meu range de consulta\n",
    "- **n** - Quantidade de dias ou a diferença entre o passado e o presente \n",
    "\n"
   ]
  },
  {
   "cell_type": "markdown",
   "metadata": {},
   "source": [
    "<p>\n",
    "  <img src=\"TaxaCrescimento.png\" >\n",
    "</p>"
   ]
  },
  {
   "cell_type": "markdown",
   "metadata": {},
   "source": [
    "Como a ideia aqui é possibilitar consultas de formas dinâmicas, eu vou criar uma função onde serão passados os valores de data inicial e data final, assim como o campo onde quero realizar o cálculo. \n",
    "\n",
    "Com a mesma função eu posso por exemplo calcular a taxa de pessoas que se recuperam por exemplo. \n"
   ]
  },
  {
   "cell_type": "code",
   "execution_count": 114,
   "metadata": {},
   "outputs": [],
   "source": [
    "def taxaCrescimento(data, variable, dataInicio = None, dataFim = None):\n",
    "    '''\n",
    "        aata = Nome do Data Frame onde será realizada a consulta\n",
    "        variable = Nome da coluna onde será realizada a consulta\n",
    "        dataInicio = Data Inicial da consulta\n",
    "        dataFim = Data final da consulta\n",
    "\n",
    "        Se data de Inicio for None, o programa retornará a primeira data disponível na base de dados\n",
    "    '''\n",
    "    if dataInicio == None:     \n",
    "        dataInicio = data['observationdate'].loc[data[variable]> 0].min() \n",
    "    else:\n",
    "        dataInicio = pd.to_datetime(dataInicio)\n",
    "    \n",
    "    if dataFim == None:\n",
    "        dataFim= data['observationdate'].iloc[-1]\n",
    "    else:\n",
    "        dataFim = pd.to_datetime(dataFim)\n",
    "\n",
    "    # Pegando o valor com base nos parametros de consulta\n",
    "    passado = data.loc[data['observationdate'] == dataInicio, variable].values[0]\n",
    "    presente = data.loc[data['observationdate'] == dataFim, variable].values[0]\n",
    "\n",
    "    # Definindo quantidade de dias\n",
    "    n = (dataFim - dataInicio).days\n",
    "\n",
    "    # Calculando a Taxa \n",
    "    taxa = (presente/passado)**(1/n) -1\n",
    "\n",
    "    return taxa * 100"
   ]
  },
  {
   "cell_type": "code",
   "execution_count": 113,
   "metadata": {},
   "outputs": [
    {
     "data": {
      "text/plain": [
       "16.27183353112116"
      ]
     },
     "execution_count": 113,
     "metadata": {},
     "output_type": "execute_result"
    }
   ],
   "source": [
    "taxaCrescimento(dfBrasil, 'confirmed')"
   ]
  },
  {
   "cell_type": "code",
   "execution_count": null,
   "metadata": {},
   "outputs": [],
   "source": []
  }
 ],
 "metadata": {
  "kernelspec": {
   "display_name": "Python 3.9.7 ('base')",
   "language": "python",
   "name": "python3"
  },
  "language_info": {
   "codemirror_mode": {
    "name": "ipython",
    "version": 3
   },
   "file_extension": ".py",
   "mimetype": "text/x-python",
   "name": "python",
   "nbconvert_exporter": "python",
   "pygments_lexer": "ipython3",
   "version": "3.9.7"
  },
  "orig_nbformat": 4,
  "vscode": {
   "interpreter": {
    "hash": "51166b0016d98ce2a19c197fe17fa45ef0006c1c01f1d4e1a0c837f841793b9a"
   }
  }
 },
 "nbformat": 4,
 "nbformat_minor": 2
}
